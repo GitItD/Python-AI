{
 "cells": [
  {
   "cell_type": "code",
   "execution_count": 52,
   "id": "00381dd6",
   "metadata": {},
   "outputs": [
    {
     "name": "stdout",
     "output_type": "stream",
     "text": [
      "Python version is:  3.11.4\n"
     ]
    }
   ],
   "source": [
    "# Code from Book: Build Your Own AI Investor\n",
    "# Damon Lee 2021\n",
    "# Check out the performance on www.valueinvestingai.com\n",
    "# Code uses data from the (presumably) nice people at https://simfin.com/. \n",
    "# Feel free to fork this code for others to see what can be done with it.\n",
    "\n",
    "# importing\n",
    "from matplotlib import pyplot as plt\n",
    "import pandas as pd\n",
    "import numpy as np\n",
    "import math\n",
    "from platform import python_version\n",
    "print('Python version is: ', python_version())"
   ]
  },
  {
   "cell_type": "code",
   "execution_count": 79,
   "id": "f507e9b2",
   "metadata": {},
   "outputs": [],
   "source": [
    "'''\n",
    "For combining fundamentals financial data from SimFin,\n",
    "or SimFin+ (https://simfin.com/) without API.\n",
    "Download Income Statement, Balance Sheet and Cash Flow files,\n",
    "Place in a directory and give the directory path to the function.\n",
    "Assumes standard filenames from SimFin.\n",
    "Returns a DataFrame of the combined result. \n",
    "Prints file infos.\n",
    "'''\n",
    "\n",
    "# Set the plotting DPI settings to be a bit higher.\n",
    "plt.rcParams['figure.figsize'] = [7.0, 4.5]\n",
    "plt.rcParams['figure.dpi'] = 150\n",
    "\n",
    "# import important financial data on the following things:\n",
    "    # us-income-annual.csv: This dataset contains all items from the income statement for all companies that belong to the selected market.\n",
    "    # us-balance-annual.csv: This dataset contains all items from the balance sheet for all companies that belong to the selected market.\n",
    "    # us-cashflow-annual.csv: This dataset contains all items from the cash flow statement for all companies that belong to the selected market.\n",
    "def getXDataMerged(myLocalPath='C:/SimFin Data/'):\n",
    "    incomeStatementData=pd.read_csv(myLocalPath+'us-income-annual.csv',\n",
    "                                    delimiter=';')\n",
    "    balanceSheetData=pd.read_csv(myLocalPath+'us-balance-annual.csv',\n",
    "                                 delimiter=';')\n",
    "    CashflowData=pd.read_csv(myLocalPath+'us-cashflow-annual.csv',\n",
    "                             delimiter=';')    \n",
    "    print('Income Statement CSV data is(rows, columns): ',\n",
    "          incomeStatementData.shape)\n",
    "    print('Balance Sheet CSV data is: ',\n",
    "          balanceSheetData.shape)\n",
    "    print('Cash Flow CSV data is: ' ,\n",
    "          CashflowData.shape)\n",
    "    \n",
    "     # Merge the data together\n",
    "    result = pd.merge(incomeStatementData, balanceSheetData,\\\n",
    "                on=['Ticker','SimFinId','Currency',\n",
    "                    'Fiscal Year','Report Date','Publish Date'])\n",
    "    \n",
    "    result = pd.merge(result, CashflowData,\\\n",
    "                on=['Ticker','SimFinId','Currency',\n",
    "                    'Fiscal Year','Report Date','Publish Date'])\n",
    "    \n",
    "    # dates in correct format\n",
    "    result[\"Report Date\"] = pd.to_datetime(result[\"Report Date\"]) \n",
    "    result[\"Publish Date\"] = pd.to_datetime(result[\"Publish Date\"])\n",
    "    \n",
    "    print('Merged X data matrix shape is: ', result.shape)\n",
    "    \n",
    "    return result"
   ]
  },
  {
   "cell_type": "code",
   "execution_count": 72,
   "id": "8758ad40",
   "metadata": {},
   "outputs": [],
   "source": [
    "def getYRawData(my_local_path='C:/SimFin Data/'):\n",
    "    dailySharePrices=pd.read_csv(my_local_path+\n",
    "                                 'us-shareprices-daily.csv',\n",
    "                                 delimiter=';')\n",
    "    \n",
    "    dailySharePrices[\"Date\"]=pd.to_datetime(dailySharePrices[\"Date\"])\n",
    "    print('Stock Price data matrix is: ',dailySharePrices.shape)\n",
    "    return dailySharePrices"
   ]
  },
  {
   "cell_type": "code",
   "execution_count": 73,
   "id": "ba8cac19",
   "metadata": {},
   "outputs": [],
   "source": [
    "def getYPriceDataNearDate(ticker, date, modifier, dailySharePrices):\n",
    "    '''\n",
    "    Return just the y price and volume.\n",
    "    Take the first day price/volume of the list of days,\n",
    "    that fall in the window of accepted days.\n",
    "    'modifier' just modifies the date to look between.\n",
    "    Returns a list.\n",
    "    '''\n",
    "    windowDays=5\n",
    "    rows = dailySharePrices[\n",
    "        (dailySharePrices[\"Date\"].between(pd.to_datetime(date)\n",
    "                                          + pd.Timedelta(days=modifier),\n",
    "                                          pd.to_datetime(date)\n",
    "                                          + pd.Timedelta(days=windowDays\n",
    "                                                         +modifier)\n",
    "                                         )\n",
    "        ) & (dailySharePrices[\"Ticker\"]==ticker)]\n",
    "    \n",
    "    if rows.empty:\n",
    "        return [ticker, np.float(\"NaN\"),\\\n",
    "                np.datetime64('NaT'),\\\n",
    "                np.float(\"NaN\")]\n",
    "    else:\n",
    "        return [ticker, rows.iloc[0][\"Open\"],\\\n",
    "                rows.iloc[0][\"Date\"],\\\n",
    "                rows.iloc[0][\"Volume\"]*rows.iloc[0][\"Open\"]]"
   ]
  },
  {
   "cell_type": "code",
   "execution_count": 74,
   "id": "db109dd0",
   "metadata": {},
   "outputs": [
    {
     "name": "stdout",
     "output_type": "stream",
     "text": [
      "Stock Price data matrix is:  (4869042, 11)\n",
      "['AAPL', 47.25, Timestamp('2018-05-14 00:00:00'), 3927187908.0]\n",
      "['AAPL', 47.84, Timestamp('2018-06-11 00:00:00'), 3503506905.6000004]\n"
     ]
    }
   ],
   "source": [
    "# Check to see if your codes work:\n",
    "\n",
    "# check the getYRawData() custom function:\n",
    "d=getYRawData()\n",
    "\n",
    "# check the getYPriceDataNearDate() custom function:\n",
    "print(getYPriceDataNearDate('AAPL', '2018-05-12', 0, d))\n",
    "print(getYPriceDataNearDate('AAPL', '2018-05-12', 30, d))"
   ]
  },
  {
   "cell_type": "code",
   "execution_count": 75,
   "id": "c37307c4",
   "metadata": {},
   "outputs": [],
   "source": [
    "def getYPricesReportDateAndTargetDate(x, d, modifier=365):\n",
    "    '''\n",
    "    Takes in all fundamental data X, all stock prices over time y,\n",
    "    and modifier (days), and returns the stock price info for the\n",
    "    data report date, as well as the stock price one year from that date\n",
    "    (if modifier is left as modifier=365)\n",
    "    '''\n",
    "    # Preallocation list of list of 2 \n",
    "    # [(price at date) (price at date + modifier)]\n",
    "    y = [[None]*8 for i in range(len(x))] \n",
    "    \n",
    "    whichDateCol='Publish Date'# or 'Report Date', \n",
    "    # is the performance date from->to. Want this to be publish date.\n",
    "    \n",
    "    # Because of time lag between report date\n",
    "    # (which can't be actioned on) and publish date\n",
    "    # (data we can trade with)\n",
    "    \n",
    "    # In the end decided this instead of iterating through index.\n",
    "    # Iterate through a range rather than index, as X might not have\n",
    "    # monotonic increasing index 1, 2, 3, etc.\n",
    "    i=0\n",
    "    for index in range(len(x)):\n",
    "        y[i]=(getYPriceDataNearDate(x['Ticker'].iloc[index], \n",
    "                                    x[whichDateCol].iloc[index],0,d)\n",
    "              +getYPriceDataNearDate(x['Ticker'].iloc[index], \n",
    "                                     x[whichDateCol].iloc[index], \n",
    "                                     modifier, d))\n",
    "        i=i+1\n",
    "        \n",
    "    return y"
   ]
  },
  {
   "cell_type": "code",
   "execution_count": 77,
   "id": "80644520",
   "metadata": {},
   "outputs": [
    {
     "name": "stdout",
     "output_type": "stream",
     "text": [
      "Income Statement CSV data is(rows, columns):  (17184, 14)\n",
      "Balance Sheet CSV data is:  (17191, 30)\n",
      "Cash Flow CSV data is:  (17191, 28)\n"
     ]
    },
    {
     "ename": "KeyError",
     "evalue": "'Ticker'",
     "output_type": "error",
     "traceback": [
      "\u001b[1;31m---------------------------------------------------------------------------\u001b[0m",
      "\u001b[1;31mKeyError\u001b[0m                                  Traceback (most recent call last)",
      "Cell \u001b[1;32mIn[77], line 1\u001b[0m\n\u001b[1;32m----> 1\u001b[0m X \u001b[38;5;241m=\u001b[39m getXDataMerged()\n\u001b[0;32m      2\u001b[0m X\u001b[38;5;241m.\u001b[39mto_csv(\u001b[38;5;124m\"\u001b[39m\u001b[38;5;124mAnnual_Stock_Price_Fundamentals.csv\u001b[39m\u001b[38;5;124m\"\u001b[39m)\n",
      "Cell \u001b[1;32mIn[71], line 35\u001b[0m, in \u001b[0;36mgetXDataMerged\u001b[1;34m(myLocalPath)\u001b[0m\n\u001b[0;32m     31\u001b[0m \u001b[38;5;28mprint\u001b[39m(\u001b[38;5;124m'\u001b[39m\u001b[38;5;124mCash Flow CSV data is: \u001b[39m\u001b[38;5;124m'\u001b[39m ,\n\u001b[0;32m     32\u001b[0m       CashflowData\u001b[38;5;241m.\u001b[39mshape)\n\u001b[0;32m     34\u001b[0m  \u001b[38;5;66;03m# Merge the data together\u001b[39;00m\n\u001b[1;32m---> 35\u001b[0m result \u001b[38;5;241m=\u001b[39m pd\u001b[38;5;241m.\u001b[39mmerge(incomeStatementData, balanceSheetData, on\u001b[38;5;241m=\u001b[39m[\u001b[38;5;124m'\u001b[39m\u001b[38;5;124mTicker\u001b[39m\u001b[38;5;124m'\u001b[39m,\u001b[38;5;124m'\u001b[39m\u001b[38;5;124mSimFinId\u001b[39m\u001b[38;5;124m'\u001b[39m,\u001b[38;5;124m'\u001b[39m\u001b[38;5;124mCurrency\u001b[39m\u001b[38;5;124m'\u001b[39m, \u001b[38;5;124m'\u001b[39m\u001b[38;5;124mFiscal Year\u001b[39m\u001b[38;5;124m'\u001b[39m,\u001b[38;5;124m'\u001b[39m\u001b[38;5;124mReport Date\u001b[39m\u001b[38;5;124m'\u001b[39m,\u001b[38;5;124m'\u001b[39m\u001b[38;5;124mPublish Date\u001b[39m\u001b[38;5;124m'\u001b[39m])\n\u001b[0;32m     37\u001b[0m result \u001b[38;5;241m=\u001b[39m pd\u001b[38;5;241m.\u001b[39mmerge(result, CashflowData, on\u001b[38;5;241m=\u001b[39m[\u001b[38;5;124m'\u001b[39m\u001b[38;5;124mTicker\u001b[39m\u001b[38;5;124m'\u001b[39m,\u001b[38;5;124m'\u001b[39m\u001b[38;5;124mSimFinId\u001b[39m\u001b[38;5;124m'\u001b[39m,\u001b[38;5;124m'\u001b[39m\u001b[38;5;124mCurrency\u001b[39m\u001b[38;5;124m'\u001b[39m, \u001b[38;5;124m'\u001b[39m\u001b[38;5;124mFiscal Year\u001b[39m\u001b[38;5;124m'\u001b[39m,\u001b[38;5;124m'\u001b[39m\u001b[38;5;124mReport Date\u001b[39m\u001b[38;5;124m'\u001b[39m,\u001b[38;5;124m'\u001b[39m\u001b[38;5;124mPublish Date\u001b[39m\u001b[38;5;124m'\u001b[39m])\n\u001b[0;32m     39\u001b[0m \u001b[38;5;66;03m# dates in correct format\u001b[39;00m\n",
      "File \u001b[1;32m~\\anaconda3\\Lib\\site-packages\\pandas\\core\\reshape\\merge.py:110\u001b[0m, in \u001b[0;36mmerge\u001b[1;34m(left, right, how, on, left_on, right_on, left_index, right_index, sort, suffixes, copy, indicator, validate)\u001b[0m\n\u001b[0;32m     93\u001b[0m \u001b[38;5;129m@Substitution\u001b[39m(\u001b[38;5;124m\"\u001b[39m\u001b[38;5;130;01m\\n\u001b[39;00m\u001b[38;5;124mleft : DataFrame or named Series\u001b[39m\u001b[38;5;124m\"\u001b[39m)\n\u001b[0;32m     94\u001b[0m \u001b[38;5;129m@Appender\u001b[39m(_merge_doc, indents\u001b[38;5;241m=\u001b[39m\u001b[38;5;241m0\u001b[39m)\n\u001b[0;32m     95\u001b[0m \u001b[38;5;28;01mdef\u001b[39;00m \u001b[38;5;21mmerge\u001b[39m(\n\u001b[1;32m   (...)\u001b[0m\n\u001b[0;32m    108\u001b[0m     validate: \u001b[38;5;28mstr\u001b[39m \u001b[38;5;241m|\u001b[39m \u001b[38;5;28;01mNone\u001b[39;00m \u001b[38;5;241m=\u001b[39m \u001b[38;5;28;01mNone\u001b[39;00m,\n\u001b[0;32m    109\u001b[0m ) \u001b[38;5;241m-\u001b[39m\u001b[38;5;241m>\u001b[39m DataFrame:\n\u001b[1;32m--> 110\u001b[0m     op \u001b[38;5;241m=\u001b[39m _MergeOperation(\n\u001b[0;32m    111\u001b[0m         left,\n\u001b[0;32m    112\u001b[0m         right,\n\u001b[0;32m    113\u001b[0m         how\u001b[38;5;241m=\u001b[39mhow,\n\u001b[0;32m    114\u001b[0m         on\u001b[38;5;241m=\u001b[39mon,\n\u001b[0;32m    115\u001b[0m         left_on\u001b[38;5;241m=\u001b[39mleft_on,\n\u001b[0;32m    116\u001b[0m         right_on\u001b[38;5;241m=\u001b[39mright_on,\n\u001b[0;32m    117\u001b[0m         left_index\u001b[38;5;241m=\u001b[39mleft_index,\n\u001b[0;32m    118\u001b[0m         right_index\u001b[38;5;241m=\u001b[39mright_index,\n\u001b[0;32m    119\u001b[0m         sort\u001b[38;5;241m=\u001b[39msort,\n\u001b[0;32m    120\u001b[0m         suffixes\u001b[38;5;241m=\u001b[39msuffixes,\n\u001b[0;32m    121\u001b[0m         indicator\u001b[38;5;241m=\u001b[39mindicator,\n\u001b[0;32m    122\u001b[0m         validate\u001b[38;5;241m=\u001b[39mvalidate,\n\u001b[0;32m    123\u001b[0m     )\n\u001b[0;32m    124\u001b[0m     \u001b[38;5;28;01mreturn\u001b[39;00m op\u001b[38;5;241m.\u001b[39mget_result(copy\u001b[38;5;241m=\u001b[39mcopy)\n",
      "File \u001b[1;32m~\\anaconda3\\Lib\\site-packages\\pandas\\core\\reshape\\merge.py:703\u001b[0m, in \u001b[0;36m_MergeOperation.__init__\u001b[1;34m(self, left, right, how, on, left_on, right_on, axis, left_index, right_index, sort, suffixes, indicator, validate)\u001b[0m\n\u001b[0;32m    696\u001b[0m \u001b[38;5;28mself\u001b[39m\u001b[38;5;241m.\u001b[39m_cross \u001b[38;5;241m=\u001b[39m cross_col\n\u001b[0;32m    698\u001b[0m \u001b[38;5;66;03m# note this function has side effects\u001b[39;00m\n\u001b[0;32m    699\u001b[0m (\n\u001b[0;32m    700\u001b[0m     \u001b[38;5;28mself\u001b[39m\u001b[38;5;241m.\u001b[39mleft_join_keys,\n\u001b[0;32m    701\u001b[0m     \u001b[38;5;28mself\u001b[39m\u001b[38;5;241m.\u001b[39mright_join_keys,\n\u001b[0;32m    702\u001b[0m     \u001b[38;5;28mself\u001b[39m\u001b[38;5;241m.\u001b[39mjoin_names,\n\u001b[1;32m--> 703\u001b[0m ) \u001b[38;5;241m=\u001b[39m \u001b[38;5;28mself\u001b[39m\u001b[38;5;241m.\u001b[39m_get_merge_keys()\n\u001b[0;32m    705\u001b[0m \u001b[38;5;66;03m# validate the merge keys dtypes. We may need to coerce\u001b[39;00m\n\u001b[0;32m    706\u001b[0m \u001b[38;5;66;03m# to avoid incompatible dtypes\u001b[39;00m\n\u001b[0;32m    707\u001b[0m \u001b[38;5;28mself\u001b[39m\u001b[38;5;241m.\u001b[39m_maybe_coerce_merge_keys()\n",
      "File \u001b[1;32m~\\anaconda3\\Lib\\site-packages\\pandas\\core\\reshape\\merge.py:1179\u001b[0m, in \u001b[0;36m_MergeOperation._get_merge_keys\u001b[1;34m(self)\u001b[0m\n\u001b[0;32m   1175\u001b[0m \u001b[38;5;28;01mif\u001b[39;00m lk \u001b[38;5;129;01mis\u001b[39;00m \u001b[38;5;129;01mnot\u001b[39;00m \u001b[38;5;28;01mNone\u001b[39;00m:\n\u001b[0;32m   1176\u001b[0m     \u001b[38;5;66;03m# Then we're either Hashable or a wrong-length arraylike,\u001b[39;00m\n\u001b[0;32m   1177\u001b[0m     \u001b[38;5;66;03m#  the latter of which will raise\u001b[39;00m\n\u001b[0;32m   1178\u001b[0m     lk \u001b[38;5;241m=\u001b[39m cast(Hashable, lk)\n\u001b[1;32m-> 1179\u001b[0m     left_keys\u001b[38;5;241m.\u001b[39mappend(left\u001b[38;5;241m.\u001b[39m_get_label_or_level_values(lk))\n\u001b[0;32m   1180\u001b[0m     join_names\u001b[38;5;241m.\u001b[39mappend(lk)\n\u001b[0;32m   1181\u001b[0m \u001b[38;5;28;01melse\u001b[39;00m:\n\u001b[0;32m   1182\u001b[0m     \u001b[38;5;66;03m# work-around for merge_asof(left_index=True)\u001b[39;00m\n",
      "File \u001b[1;32m~\\anaconda3\\Lib\\site-packages\\pandas\\core\\generic.py:1850\u001b[0m, in \u001b[0;36mNDFrame._get_label_or_level_values\u001b[1;34m(self, key, axis)\u001b[0m\n\u001b[0;32m   1844\u001b[0m     values \u001b[38;5;241m=\u001b[39m (\n\u001b[0;32m   1845\u001b[0m         \u001b[38;5;28mself\u001b[39m\u001b[38;5;241m.\u001b[39maxes[axis]\n\u001b[0;32m   1846\u001b[0m         \u001b[38;5;241m.\u001b[39mget_level_values(key)  \u001b[38;5;66;03m# type: ignore[assignment]\u001b[39;00m\n\u001b[0;32m   1847\u001b[0m         \u001b[38;5;241m.\u001b[39m_values\n\u001b[0;32m   1848\u001b[0m     )\n\u001b[0;32m   1849\u001b[0m \u001b[38;5;28;01melse\u001b[39;00m:\n\u001b[1;32m-> 1850\u001b[0m     \u001b[38;5;28;01mraise\u001b[39;00m \u001b[38;5;167;01mKeyError\u001b[39;00m(key)\n\u001b[0;32m   1852\u001b[0m \u001b[38;5;66;03m# Check for duplicates\u001b[39;00m\n\u001b[0;32m   1853\u001b[0m \u001b[38;5;28;01mif\u001b[39;00m values\u001b[38;5;241m.\u001b[39mndim \u001b[38;5;241m>\u001b[39m \u001b[38;5;241m1\u001b[39m:\n",
      "\u001b[1;31mKeyError\u001b[0m: 'Ticker'"
     ]
    }
   ],
   "source": [
    "X = getXDataMerged()\n",
    "X.to_csv(\"Annual_Stock_Price_Fundamentals.csv\")"
   ]
  },
  {
   "cell_type": "code",
   "execution_count": null,
   "id": "3423fc76",
   "metadata": {},
   "outputs": [],
   "source": []
  }
 ],
 "metadata": {
  "kernelspec": {
   "display_name": "Python 3 (ipykernel)",
   "language": "python",
   "name": "python3"
  },
  "language_info": {
   "codemirror_mode": {
    "name": "ipython",
    "version": 3
   },
   "file_extension": ".py",
   "mimetype": "text/x-python",
   "name": "python",
   "nbconvert_exporter": "python",
   "pygments_lexer": "ipython3",
   "version": "3.11.4"
  }
 },
 "nbformat": 4,
 "nbformat_minor": 5
}
